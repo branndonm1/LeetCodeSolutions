{
  "nbformat": 4,
  "nbformat_minor": 0,
  "metadata": {
    "colab": {
      "provenance": [],
      "collapsed_sections": [],
      "authorship_tag": "ABX9TyOrv0yV51gm07fvliypSYgU",
      "include_colab_link": true
    },
    "kernelspec": {
      "name": "python3",
      "display_name": "Python 3"
    },
    "language_info": {
      "name": "python"
    }
  },
  "cells": [
    {
      "cell_type": "markdown",
      "metadata": {
        "id": "view-in-github",
        "colab_type": "text"
      },
      "source": [
        "<a href=\"https://colab.research.google.com/github/branndonm1/LeetCodeSolutions/blob/main/LeetCodeSolutions.ipynb\" target=\"_parent\"><img src=\"https://colab.research.google.com/assets/colab-badge.svg\" alt=\"Open In Colab\"/></a>"
      ]
    },
    {
      "cell_type": "markdown",
      "source": [
        "Write an algorithm to determine if a number n is happy.\n",
        "\n",
        "A happy number is a number defined by the following process:\n",
        "\n",
        "Starting with any positive integer, replace the number by the sum of the squares of its digits.\n",
        "Repeat the process until the number equals 1 (where it will stay), or it loops endlessly in a cycle which does not include 1.\n",
        "Those numbers for which this process ends in 1 are happy.\n",
        "Return true if n is a happy number, and false if not."
      ],
      "metadata": {
        "id": "JLXFH-YJ9aFa"
      }
    },
    {
      "cell_type": "code",
      "execution_count": null,
      "metadata": {
        "id": "Jc9U3JTU9YQu"
      },
      "outputs": [],
      "source": [
        "class Solution(object):\n",
        "    def isHappy(self, n):\n",
        "        \"\"\"\n",
        "        :type n: int\n",
        "        :rtype: bool\n",
        "        \"\"\"       \n",
        "        seen = set()\n",
        "        while n != 1 and n not in seen:\n",
        "            seen.add(n)\n",
        "            num_string = str(n)\n",
        "            n = sum([int(x)**2 for x in num_string])\n",
        "        return n==1\n"
      ]
    },
    {
      "cell_type": "markdown",
      "source": [
        "Given an integer array nums, move all 0's to the end of it while maintaining the relative order of the non-zero elements.\n",
        "\n",
        "Note that you must do this in-place without making a copy of the array."
      ],
      "metadata": {
        "id": "OQMqydOMA-GM"
      }
    },
    {
      "cell_type": "code",
      "source": [
        "class Solution(object):\n",
        "    def moveZeroes(self, nums):\n",
        "        \"\"\"\n",
        "        :type nums: List[int]\n",
        "        :rtype: None Do not return anything, modify nums in-place instead.\n",
        "        \"\"\"\n",
        "        count = 0\n",
        "        \n",
        "        for x in nums:\n",
        "            if x == 0:\n",
        "                count +=1\n",
        "        \n",
        "        while 0 in nums:\n",
        "            nums.remove(0)\n",
        "        \n",
        "        nums = nums.extend([0 for i in range(count)])"
      ],
      "metadata": {
        "id": "vwllgjTyA-7d"
      },
      "execution_count": null,
      "outputs": []
    },
    {
      "cell_type": "markdown",
      "source": [
        "Given an integer n, return a string array answer (1-indexed) where:\n",
        "\n",
        "answer[i] == \"FizzBuzz\" if i is divisible by 3 and 5.\n",
        "answer[i] == \"Fizz\" if i is divisible by 3.\n",
        "answer[i] == \"Buzz\" if i is divisible by 5.\n",
        "answer[i] == i (as a string) if none of the above conditions are true.\n",
        "\n"
      ],
      "metadata": {
        "id": "W059g-AuDbTO"
      }
    },
    {
      "cell_type": "code",
      "source": [
        "class Solution(object):\n",
        "    def fizzBuzz(self, n):\n",
        "        \"\"\"\n",
        "        :type n: int\n",
        "        :rtype: List[str]\n",
        "        \"\"\"\n",
        "        answer = [i for i in range(n+1)]\n",
        "        \n",
        "        for i in range(len(answer)):\n",
        "            if answer[i] % 3 == 0 and answer[i] % 5 == 0:\n",
        "                answer[i] = \"FizzBuzz\"\n",
        "            elif answer[i] % 3 == 0:\n",
        "                answer[i] = \"Fizz\"\n",
        "            elif answer[i] % 5 == 0:\n",
        "                answer[i] = \"Buzz\"\n",
        "            else:\n",
        "                answer[i] = str(i)\n",
        "        answer=answer[1:]\n",
        "        return answer"
      ],
      "metadata": {
        "id": "ctW4Wl7eDgkm"
      },
      "execution_count": null,
      "outputs": []
    },
    {
      "cell_type": "markdown",
      "source": [
        "Given an integer n, return true if it is a power of three. Otherwise, return false.\n",
        "\n",
        "An integer n is a power of three, if there exists an integer x such that n == 3x."
      ],
      "metadata": {
        "id": "a1DIMhtrDp2h"
      }
    },
    {
      "cell_type": "code",
      "source": [
        "class Solution(object):\n",
        "    def isPowerOfThree(self, n):\n",
        "        \"\"\"\n",
        "        :type n: int\n",
        "        :rtype: bool\n",
        "        \"\"\"\n",
        "        \n",
        "        if n<=0:\n",
        "            return False\n",
        "        \n",
        "        while n % 3 == 0:\n",
        "            n = n/3\n",
        "        \n",
        "        return n==1"
      ],
      "metadata": {
        "id": "NLqtm6xxNLdY"
      },
      "execution_count": null,
      "outputs": []
    },
    {
      "cell_type": "markdown",
      "source": [
        "You are given a large integer represented as an integer array digits, where each digits[i] is the ith digit of the integer. The digits are ordered from most significant to least significant in left-to-right order. The large integer does not contain any leading 0's.\n",
        "\n",
        "Increment the large integer by one and return the resulting array of digits."
      ],
      "metadata": {
        "id": "XsQ9m3_ANOWk"
      }
    },
    {
      "cell_type": "code",
      "source": [
        "class Solution(object):\n",
        "    def plusOne(self, digits):\n",
        "        \"\"\"\n",
        "        :type digits: List[int]\n",
        "        :rtype: List[int]\n",
        "        \"\"\"\n",
        "        digits.reverse()\n",
        "        n = sum([digits[i]*(10**i) for i in range(len(digits))])+1\n",
        "        n_string=str(n)\n",
        "        digits = [int(x) for x in n_string]\n",
        "        return digits\n",
        "        "
      ],
      "metadata": {
        "id": "bFgMyyoSQ6AQ"
      },
      "execution_count": null,
      "outputs": []
    },
    {
      "cell_type": "markdown",
      "source": [
        "A phrase is a palindrome if, after converting all uppercase letters into lowercase letters and removing all non-alphanumeric characters, it reads the same forward and backward. Alphanumeric characters include letters and numbers.\n",
        "\n",
        "Given a string s, return true if it is a palindrome, or false otherwise."
      ],
      "metadata": {
        "id": "4cfGprE-jNpM"
      }
    },
    {
      "cell_type": "code",
      "source": [
        "class Solution(object):\n",
        "    def isPalindrome(self, s):\n",
        "        \"\"\"\n",
        "        :type s: str\n",
        "        :rtype: bool\n",
        "        \"\"\"\n",
        "        string1 = ''.join(x for x in s if x.isalnum())\n",
        "        string1 = string1.lower()\n",
        "        string2 = string1[::-1]\n",
        "        print(string1)\n",
        "        print(string2)\n",
        "        return string1==string2\n",
        "        "
      ],
      "metadata": {
        "id": "Lr4aSbOqQ9P5"
      },
      "execution_count": null,
      "outputs": []
    },
    {
      "cell_type": "markdown",
      "source": [],
      "metadata": {
        "id": "qQhyN1KEjTn0"
      }
    }
  ]
}